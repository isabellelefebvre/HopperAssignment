{
 "cells": [
  {
   "cell_type": "code",
   "execution_count": 1,
   "metadata": {
    "collapsed": true
   },
   "outputs": [],
   "source": [
    "import pandas as pd\n",
    "import numpy as np\n",
    "import matplotlib.pyplot as plt\n",
    "import datetime as dt\n",
    "pd.set_option('display.float_format', lambda x: '%.2f' % x)"
   ]
  },
  {
   "cell_type": "code",
   "execution_count": 2,
   "metadata": {
    "collapsed": false
   },
   "outputs": [],
   "source": [
    "df = pd.read_csv('boscun-longitudinal.csv')"
   ]
  },
  {
   "cell_type": "markdown",
   "metadata": {},
   "source": [
    "### Problem Definition\n",
    "\n",
    "For a given combination of fly dates (departure,return) and search date ${t_0}$ we want to establish if the user should\n",
    " - Wait: There exists a ${t}$, where ${t > t_0}$, for which t has a better price\n",
    " - Book now : There is no $t$, where ${t > t_0}$, for which t has a better price\n",
    " \n",
    "We still need to define \"better price\". Two potential candidates are: \n",
    " 1. $min(price)$ : If we expect at least one flight with a cheaper rate than today's cheapest rate, we advise to wait\n",
    " 2. $avg(price)$: If we expect to see, on average, cheaper prices than today's average rate, we advise to wait\n",
    " \n",
    "I chose candidate (1), ${min(price)}$, as I expect that seeing a cheaper rate on a date in the future inspires user confidence in the product’s decision. In using ${avg(price)}$, it could happen that average prices go down, but not cheaper rate appears. This decision could be validated by conducting user research and identifying which definition inspires most trust in Hopper (and therefore could be a driver for customer lifetime value). "
   ]
  },
  {
   "cell_type": "markdown",
   "metadata": {},
   "source": [
    "### Preferred (not possible) Approach \n",
    "The first approach considered is to use time series modeling to forecast $min(price)$ for future search dates, given a departure and return date. The advice to book or wait, would be generated based on results of the forecast.\n",
    "\n",
    "Pros: \n",
    "- This makes use of the dependency among previous observations to predict future behavior.\n",
    "\n",
    "Cons: \n",
    "- Need to solve for a cold start problem, as we only get data once a search has been made\n",
    "- In cases with few previous observations, we cannot forecast far ahead in the future.\n",
    "\n",
    "With our dataset, this is _not possible_, because at least 50% of our departure-return date combinations only have 3 distinct search dates or less.\n",
    "\n"
   ]
  },
  {
   "cell_type": "markdown",
   "metadata": {},
   "source": [
    "### Approach Chosen\n",
    "Consider one observation to be a combination of a search date, departure date and return date (as this is the level at which we need predictions). Using those observations, I have decided to build a series of machine learning models, to predict “book” or “wait” as a classification problem, based on features we know at the search result stage. I then chose the best model (in terms of accuracy), and use it to make predictions. Below the pros and cons of this approach\n",
    "\n",
    "Pros: \n",
    " - Avoids cold start problem\n",
    " \n",
    "Cons:\n",
    " - Not making use of the information that lies in historical searches to inform future prices\n",
    " - This violates the IID assumption required for some those models (i.e. logistic regression)\n",
    "\n"
   ]
  },
  {
   "cell_type": "markdown",
   "metadata": {},
   "source": [
    "### Descriptive Statistics & Data Validation"
   ]
  },
  {
   "cell_type": "code",
   "execution_count": 3,
   "metadata": {
    "collapsed": false
   },
   "outputs": [
    {
     "data": {
      "text/plain": [
       "search_id                       3009408\n",
       "trip_index                      3009408\n",
       "received_date                   3009408\n",
       "received_ms                     3009408\n",
       "origin                          3009408\n",
       "destination                     3009408\n",
       "total_usd                       3009408\n",
       "pax_type                        2654847\n",
       "refundable                            0\n",
       "validating_carrier              2654847\n",
       "departure_odate                 3009408\n",
       "departure_ms                    3009408\n",
       "outgoing_duration               3009408\n",
       "outgoing_stops                  3009408\n",
       "return_odate                    3009408\n",
       "return_ms                       3009408\n",
       "returning_duration              3009408\n",
       "returning_stops                 3009408\n",
       "major_carrier_id                3009408\n",
       "total_stops                     3009408\n",
       "advance                         3009408\n",
       "length_of_stay                  3009408\n",
       "includes_saturday_night_stay    3009408\n",
       "available_seats                 3009408\n",
       "lowest_cabin_class              3009408\n",
       "highest_cabin_class             3009408\n",
       "dtype: int64"
      ]
     },
     "execution_count": 3,
     "metadata": {},
     "output_type": "execute_result"
    }
   ],
   "source": [
    "#Check for missing values\n",
    "df.count()"
   ]
  },
  {
   "cell_type": "code",
   "execution_count": 4,
   "metadata": {
    "collapsed": false
   },
   "outputs": [
    {
     "data": {
      "text/html": [
       "<div>\n",
       "<style scoped>\n",
       "    .dataframe tbody tr th:only-of-type {\n",
       "        vertical-align: middle;\n",
       "    }\n",
       "\n",
       "    .dataframe tbody tr th {\n",
       "        vertical-align: top;\n",
       "    }\n",
       "\n",
       "    .dataframe thead th {\n",
       "        text-align: right;\n",
       "    }\n",
       "</style>\n",
       "<table border=\"1\" class=\"dataframe\">\n",
       "  <thead>\n",
       "    <tr style=\"text-align: right;\">\n",
       "      <th></th>\n",
       "      <th>search_id</th>\n",
       "      <th>trip_index</th>\n",
       "      <th>received_date</th>\n",
       "      <th>received_ms</th>\n",
       "      <th>origin</th>\n",
       "      <th>destination</th>\n",
       "      <th>total_usd</th>\n",
       "      <th>pax_type</th>\n",
       "      <th>refundable</th>\n",
       "      <th>validating_carrier</th>\n",
       "      <th>...</th>\n",
       "      <th>returning_duration</th>\n",
       "      <th>returning_stops</th>\n",
       "      <th>major_carrier_id</th>\n",
       "      <th>total_stops</th>\n",
       "      <th>advance</th>\n",
       "      <th>length_of_stay</th>\n",
       "      <th>includes_saturday_night_stay</th>\n",
       "      <th>available_seats</th>\n",
       "      <th>lowest_cabin_class</th>\n",
       "      <th>highest_cabin_class</th>\n",
       "    </tr>\n",
       "  </thead>\n",
       "  <tbody>\n",
       "  </tbody>\n",
       "</table>\n",
       "<p>0 rows × 26 columns</p>\n",
       "</div>"
      ],
      "text/plain": [
       "Empty DataFrame\n",
       "Columns: [search_id, trip_index, received_date, received_ms, origin, destination, total_usd, pax_type, refundable, validating_carrier, departure_odate, departure_ms, outgoing_duration, outgoing_stops, return_odate, return_ms, returning_duration, returning_stops, major_carrier_id, total_stops, advance, length_of_stay, includes_saturday_night_stay, available_seats, lowest_cabin_class, highest_cabin_class]\n",
       "Index: []\n",
       "\n",
       "[0 rows x 26 columns]"
      ]
     },
     "execution_count": 4,
     "metadata": {},
     "output_type": "execute_result"
    }
   ],
   "source": [
    "#Refundable is always missing\n",
    "df[df['refundable'].isnull() == False]"
   ]
  },
  {
   "cell_type": "code",
   "execution_count": 5,
   "metadata": {
    "collapsed": false
   },
   "outputs": [
    {
     "data": {
      "text/plain": [
       "113339"
      ]
     },
     "execution_count": 5,
     "metadata": {},
     "output_type": "execute_result"
    }
   ],
   "source": [
    "#Unique Searches, on average 26 results per search\n",
    "len(df.search_id.unique())"
   ]
  },
  {
   "cell_type": "code",
   "execution_count": 6,
   "metadata": {
    "collapsed": false
   },
   "outputs": [
    {
     "name": "stdout",
     "output_type": "stream",
     "text": [
      "0\n",
      "0\n"
     ]
    }
   ],
   "source": [
    "#All Flights are BOS-CUN\n",
    "print(len(df[df['origin']!=\"BOS\"]))\n",
    "print(len(df[df['destination']!=\"CUN\"]))"
   ]
  },
  {
   "cell_type": "code",
   "execution_count": 7,
   "metadata": {
    "collapsed": false
   },
   "outputs": [
    {
     "name": "stdout",
     "output_type": "stream",
     "text": [
      "Price Range is 224.08 to 8382.24\n"
     ]
    }
   ],
   "source": [
    "#Price Range is realistic\n",
    "print(\"Price Range is \" + str(df['total_usd'].min()) + \" to \" + str(df['total_usd'].max()))"
   ]
  },
  {
   "cell_type": "code",
   "execution_count": 8,
   "metadata": {
    "collapsed": false
   },
   "outputs": [
    {
     "data": {
      "image/png": "[encoded data removed]",
      "text/plain": [
       "<matplotlib.figure.Figure at 0x7fb54d6d53c8>"
      ]
     },
     "metadata": {},
     "output_type": "display_data"
    }
   ],
   "source": [
    "#Price Distribution\n",
    "df['total_usd'].hist(bins = 30)\n",
    "plt.show()"
   ]
  },
  {
   "cell_type": "code",
   "execution_count": 9,
   "metadata": {
    "collapsed": false
   },
   "outputs": [
    {
     "data": {
      "text/plain": [
       "array(['ADT', nan], dtype=object)"
      ]
     },
     "execution_count": 9,
     "metadata": {},
     "output_type": "execute_result"
    }
   ],
   "source": [
    "#Only Adults and Missing PAX Types\n",
    "df.pax_type.unique()"
   ]
  },
  {
   "cell_type": "code",
   "execution_count": 10,
   "metadata": {
    "collapsed": false
   },
   "outputs": [
    {
     "data": {
      "text/html": [
       "<div>\n",
       "<style scoped>\n",
       "    .dataframe tbody tr th:only-of-type {\n",
       "        vertical-align: middle;\n",
       "    }\n",
       "\n",
       "    .dataframe tbody tr th {\n",
       "        vertical-align: top;\n",
       "    }\n",
       "\n",
       "    .dataframe thead th {\n",
       "        text-align: right;\n",
       "    }\n",
       "</style>\n",
       "<table border=\"1\" class=\"dataframe\">\n",
       "  <thead>\n",
       "    <tr style=\"text-align: right;\">\n",
       "      <th></th>\n",
       "      <th>search_id</th>\n",
       "      <th>trip_index</th>\n",
       "      <th>received_date</th>\n",
       "      <th>received_ms</th>\n",
       "      <th>origin</th>\n",
       "      <th>destination</th>\n",
       "      <th>total_usd</th>\n",
       "      <th>pax_type</th>\n",
       "      <th>refundable</th>\n",
       "      <th>validating_carrier</th>\n",
       "      <th>...</th>\n",
       "      <th>returning_duration</th>\n",
       "      <th>returning_stops</th>\n",
       "      <th>major_carrier_id</th>\n",
       "      <th>total_stops</th>\n",
       "      <th>advance</th>\n",
       "      <th>length_of_stay</th>\n",
       "      <th>includes_saturday_night_stay</th>\n",
       "      <th>available_seats</th>\n",
       "      <th>lowest_cabin_class</th>\n",
       "      <th>highest_cabin_class</th>\n",
       "    </tr>\n",
       "  </thead>\n",
       "  <tbody>\n",
       "  </tbody>\n",
       "</table>\n",
       "<p>0 rows × 26 columns</p>\n",
       "</div>"
      ],
      "text/plain": [
       "Empty DataFrame\n",
       "Columns: [search_id, trip_index, received_date, received_ms, origin, destination, total_usd, pax_type, refundable, validating_carrier, departure_odate, departure_ms, outgoing_duration, outgoing_stops, return_odate, return_ms, returning_duration, returning_stops, major_carrier_id, total_stops, advance, length_of_stay, includes_saturday_night_stay, available_seats, lowest_cabin_class, highest_cabin_class]\n",
       "Index: []\n",
       "\n",
       "[0 rows x 26 columns]"
      ]
     },
     "execution_count": 10,
     "metadata": {},
     "output_type": "execute_result"
    }
   ],
   "source": [
    "#Carrier is missing at same time as PAX Type is missing\n",
    "df[df['pax_type'].isnull() & (df['validating_carrier'].isnull() == False)]"
   ]
  },
  {
   "cell_type": "code",
   "execution_count": 11,
   "metadata": {
    "collapsed": false
   },
   "outputs": [
    {
     "data": {
      "text/html": [
       "<div>\n",
       "<style scoped>\n",
       "    .dataframe tbody tr th:only-of-type {\n",
       "        vertical-align: middle;\n",
       "    }\n",
       "\n",
       "    .dataframe tbody tr th {\n",
       "        vertical-align: top;\n",
       "    }\n",
       "\n",
       "    .dataframe thead th {\n",
       "        text-align: right;\n",
       "    }\n",
       "</style>\n",
       "<table border=\"1\" class=\"dataframe\">\n",
       "  <thead>\n",
       "    <tr style=\"text-align: right;\">\n",
       "      <th></th>\n",
       "      <th>search_id</th>\n",
       "      <th>trip_index</th>\n",
       "      <th>received_date</th>\n",
       "      <th>received_ms</th>\n",
       "      <th>origin</th>\n",
       "      <th>destination</th>\n",
       "      <th>total_usd</th>\n",
       "      <th>pax_type</th>\n",
       "      <th>refundable</th>\n",
       "      <th>validating_carrier</th>\n",
       "      <th>...</th>\n",
       "      <th>returning_duration</th>\n",
       "      <th>returning_stops</th>\n",
       "      <th>major_carrier_id</th>\n",
       "      <th>total_stops</th>\n",
       "      <th>advance</th>\n",
       "      <th>length_of_stay</th>\n",
       "      <th>includes_saturday_night_stay</th>\n",
       "      <th>available_seats</th>\n",
       "      <th>lowest_cabin_class</th>\n",
       "      <th>highest_cabin_class</th>\n",
       "    </tr>\n",
       "  </thead>\n",
       "  <tbody>\n",
       "  </tbody>\n",
       "</table>\n",
       "<p>0 rows × 26 columns</p>\n",
       "</div>"
      ],
      "text/plain": [
       "Empty DataFrame\n",
       "Columns: [search_id, trip_index, received_date, received_ms, origin, destination, total_usd, pax_type, refundable, validating_carrier, departure_odate, departure_ms, outgoing_duration, outgoing_stops, return_odate, return_ms, returning_duration, returning_stops, major_carrier_id, total_stops, advance, length_of_stay, includes_saturday_night_stay, available_seats, lowest_cabin_class, highest_cabin_class]\n",
       "Index: []\n",
       "\n",
       "[0 rows x 26 columns]"
      ]
     },
     "execution_count": 11,
     "metadata": {},
     "output_type": "execute_result"
    }
   ],
   "source": [
    "#Validating total stops\n",
    "df[(df['outgoing_stops'] + df['returning_stops'])!= df['total_stops']]"
   ]
  },
  {
   "cell_type": "code",
   "execution_count": 12,
   "metadata": {
    "collapsed": false
   },
   "outputs": [
    {
     "data": {
      "text/html": [
       "<div>\n",
       "<style scoped>\n",
       "    .dataframe tbody tr th:only-of-type {\n",
       "        vertical-align: middle;\n",
       "    }\n",
       "\n",
       "    .dataframe tbody tr th {\n",
       "        vertical-align: top;\n",
       "    }\n",
       "\n",
       "    .dataframe thead th {\n",
       "        text-align: right;\n",
       "    }\n",
       "</style>\n",
       "<table border=\"1\" class=\"dataframe\">\n",
       "  <thead>\n",
       "    <tr style=\"text-align: right;\">\n",
       "      <th></th>\n",
       "      <th>count</th>\n",
       "      <th>mean</th>\n",
       "      <th>std</th>\n",
       "      <th>min</th>\n",
       "      <th>25%</th>\n",
       "      <th>50%</th>\n",
       "      <th>75%</th>\n",
       "      <th>max</th>\n",
       "    </tr>\n",
       "  </thead>\n",
       "  <tbody>\n",
       "    <tr>\n",
       "      <th>trip_index</th>\n",
       "      <td>3009408.00</td>\n",
       "      <td>93.63</td>\n",
       "      <td>55.72</td>\n",
       "      <td>0.00</td>\n",
       "      <td>45.00</td>\n",
       "      <td>92.00</td>\n",
       "      <td>140.00</td>\n",
       "      <td>387.00</td>\n",
       "    </tr>\n",
       "    <tr>\n",
       "      <th>received_ms</th>\n",
       "      <td>3009408.00</td>\n",
       "      <td>1465045573343.01</td>\n",
       "      <td>12504702245.11</td>\n",
       "      <td>1437280080059.00</td>\n",
       "      <td>1454873531678.00</td>\n",
       "      <td>1466179695191.00</td>\n",
       "      <td>1476614054571.00</td>\n",
       "      <td>1483246056851.00</td>\n",
       "    </tr>\n",
       "    <tr>\n",
       "      <th>total_usd</th>\n",
       "      <td>3009408.00</td>\n",
       "      <td>614.84</td>\n",
       "      <td>276.06</td>\n",
       "      <td>224.08</td>\n",
       "      <td>421.89</td>\n",
       "      <td>565.58</td>\n",
       "      <td>725.93</td>\n",
       "      <td>8382.24</td>\n",
       "    </tr>\n",
       "    <tr>\n",
       "      <th>refundable</th>\n",
       "      <td>0.00</td>\n",
       "      <td>nan</td>\n",
       "      <td>nan</td>\n",
       "      <td>nan</td>\n",
       "      <td>nan</td>\n",
       "      <td>nan</td>\n",
       "      <td>nan</td>\n",
       "      <td>nan</td>\n",
       "    </tr>\n",
       "    <tr>\n",
       "      <th>departure_ms</th>\n",
       "      <td>3009408.00</td>\n",
       "      <td>1472220575940.61</td>\n",
       "      <td>13864783856.94</td>\n",
       "      <td>1437337200000.00</td>\n",
       "      <td>1460374200000.00</td>\n",
       "      <td>1473852600000.00</td>\n",
       "      <td>1483407000000.00</td>\n",
       "      <td>1510187100000.00</td>\n",
       "    </tr>\n",
       "    <tr>\n",
       "      <th>outgoing_duration</th>\n",
       "      <td>3009408.00</td>\n",
       "      <td>617.30</td>\n",
       "      <td>265.68</td>\n",
       "      <td>256.00</td>\n",
       "      <td>425.00</td>\n",
       "      <td>533.00</td>\n",
       "      <td>700.00</td>\n",
       "      <td>2070.00</td>\n",
       "    </tr>\n",
       "    <tr>\n",
       "      <th>outgoing_stops</th>\n",
       "      <td>3009408.00</td>\n",
       "      <td>1.12</td>\n",
       "      <td>0.38</td>\n",
       "      <td>0.00</td>\n",
       "      <td>1.00</td>\n",
       "      <td>1.00</td>\n",
       "      <td>1.00</td>\n",
       "      <td>3.00</td>\n",
       "    </tr>\n",
       "    <tr>\n",
       "      <th>return_ms</th>\n",
       "      <td>3009408.00</td>\n",
       "      <td>1472786245942.58</td>\n",
       "      <td>13870298268.54</td>\n",
       "      <td>1437825600000.00</td>\n",
       "      <td>1460979000000.00</td>\n",
       "      <td>1474394940000.00</td>\n",
       "      <td>1483908060000.00</td>\n",
       "      <td>1511053500000.00</td>\n",
       "    </tr>\n",
       "    <tr>\n",
       "      <th>returning_duration</th>\n",
       "      <td>3009408.00</td>\n",
       "      <td>617.34</td>\n",
       "      <td>248.40</td>\n",
       "      <td>178.00</td>\n",
       "      <td>446.00</td>\n",
       "      <td>533.00</td>\n",
       "      <td>695.00</td>\n",
       "      <td>2140.00</td>\n",
       "    </tr>\n",
       "    <tr>\n",
       "      <th>returning_stops</th>\n",
       "      <td>3009408.00</td>\n",
       "      <td>1.07</td>\n",
       "      <td>0.35</td>\n",
       "      <td>0.00</td>\n",
       "      <td>1.00</td>\n",
       "      <td>1.00</td>\n",
       "      <td>1.00</td>\n",
       "      <td>3.00</td>\n",
       "    </tr>\n",
       "    <tr>\n",
       "      <th>total_stops</th>\n",
       "      <td>3009408.00</td>\n",
       "      <td>2.19</td>\n",
       "      <td>0.56</td>\n",
       "      <td>0.00</td>\n",
       "      <td>2.00</td>\n",
       "      <td>2.00</td>\n",
       "      <td>2.00</td>\n",
       "      <td>6.00</td>\n",
       "    </tr>\n",
       "    <tr>\n",
       "      <th>advance</th>\n",
       "      <td>3009408.00</td>\n",
       "      <td>83.22</td>\n",
       "      <td>66.89</td>\n",
       "      <td>0.00</td>\n",
       "      <td>30.00</td>\n",
       "      <td>68.00</td>\n",
       "      <td>121.00</td>\n",
       "      <td>351.00</td>\n",
       "    </tr>\n",
       "    <tr>\n",
       "      <th>length_of_stay</th>\n",
       "      <td>3009408.00</td>\n",
       "      <td>6.42</td>\n",
       "      <td>5.63</td>\n",
       "      <td>0.00</td>\n",
       "      <td>4.00</td>\n",
       "      <td>6.00</td>\n",
       "      <td>7.00</td>\n",
       "      <td>252.00</td>\n",
       "    </tr>\n",
       "    <tr>\n",
       "      <th>available_seats</th>\n",
       "      <td>3009408.00</td>\n",
       "      <td>5.52</td>\n",
       "      <td>3.16</td>\n",
       "      <td>1.00</td>\n",
       "      <td>2.00</td>\n",
       "      <td>5.00</td>\n",
       "      <td>9.00</td>\n",
       "      <td>9.00</td>\n",
       "    </tr>\n",
       "  </tbody>\n",
       "</table>\n",
       "</div>"
      ],
      "text/plain": [
       "                        count             mean            std  \\\n",
       "trip_index         3009408.00            93.63          55.72   \n",
       "received_ms        3009408.00 1465045573343.01 12504702245.11   \n",
       "total_usd          3009408.00           614.84         276.06   \n",
       "refundable               0.00              nan            nan   \n",
       "departure_ms       3009408.00 1472220575940.61 13864783856.94   \n",
       "outgoing_duration  3009408.00           617.30         265.68   \n",
       "outgoing_stops     3009408.00             1.12           0.38   \n",
       "return_ms          3009408.00 1472786245942.58 13870298268.54   \n",
       "returning_duration 3009408.00           617.34         248.40   \n",
       "returning_stops    3009408.00             1.07           0.35   \n",
       "total_stops        3009408.00             2.19           0.56   \n",
       "advance            3009408.00            83.22          66.89   \n",
       "length_of_stay     3009408.00             6.42           5.63   \n",
       "available_seats    3009408.00             5.52           3.16   \n",
       "\n",
       "                                min              25%              50%  \\\n",
       "trip_index                     0.00            45.00            92.00   \n",
       "received_ms        1437280080059.00 1454873531678.00 1466179695191.00   \n",
       "total_usd                    224.08           421.89           565.58   \n",
       "refundable                      nan              nan              nan   \n",
       "departure_ms       1437337200000.00 1460374200000.00 1473852600000.00   \n",
       "outgoing_duration            256.00           425.00           533.00   \n",
       "outgoing_stops                 0.00             1.00             1.00   \n",
       "return_ms          1437825600000.00 1460979000000.00 1474394940000.00   \n",
       "returning_duration           178.00           446.00           533.00   \n",
       "returning_stops                0.00             1.00             1.00   \n",
       "total_stops                    0.00             2.00             2.00   \n",
       "advance                        0.00            30.00            68.00   \n",
       "length_of_stay                 0.00             4.00             6.00   \n",
       "available_seats                1.00             2.00             5.00   \n",
       "\n",
       "                                75%              max  \n",
       "trip_index                   140.00           387.00  \n",
       "received_ms        1476614054571.00 1483246056851.00  \n",
       "total_usd                    725.93          8382.24  \n",
       "refundable                      nan              nan  \n",
       "departure_ms       1483407000000.00 1510187100000.00  \n",
       "outgoing_duration            700.00          2070.00  \n",
       "outgoing_stops                 1.00             3.00  \n",
       "return_ms          1483908060000.00 1511053500000.00  \n",
       "returning_duration           695.00          2140.00  \n",
       "returning_stops                1.00             3.00  \n",
       "total_stops                    2.00             6.00  \n",
       "advance                      121.00           351.00  \n",
       "length_of_stay                 7.00           252.00  \n",
       "available_seats                9.00             9.00  "
      ]
     },
     "execution_count": 12,
     "metadata": {},
     "output_type": "execute_result"
    }
   ],
   "source": [
    "#Nothing seems unusual in the descriptives of continuous variables \n",
    "df.describe().T"
   ]
  },
  {
   "cell_type": "markdown",
   "metadata": {},
   "source": [
    "### Data Preprocessing"
   ]
  },
  {
   "cell_type": "code",
   "execution_count": 13,
   "metadata": {
    "collapsed": true
   },
   "outputs": [],
   "source": [
    "#Function for period of day\n",
    "def period_of_day(row):\n",
    "    hour_part =  row.hour\n",
    "    if hour_part < 12: period = \"morning\"\n",
    "    elif (hour_part >=12) & (hour_part <18): period = \"afternoon\"\n",
    "    elif hour_part >= 18: period = \"evening\"\n",
    "    return period"
   ]
  },
  {
   "cell_type": "code",
   "execution_count": 14,
   "metadata": {
    "collapsed": false
   },
   "outputs": [],
   "source": [
    "df_clean = df.fillna({'pax_type':'missing', 'validating_carrier':'missing'})\\\n",
    "\n",
    "#For convenience\n",
    "df_clean.loc[:,'departure_dt'] = pd.to_datetime(df['departure_ms'], unit = 'ms')\n",
    "df_clean.loc[:,'return_dt'] = pd.to_datetime(df['return_ms'], unit = 'ms')\n",
    "\n",
    "df_clean.loc[:,'departure_date'] = df_clean['departure_dt'].dt.date\n",
    "df_clean.loc[:,'return_date'] = df_clean['return_dt'].dt.date\n",
    "\n",
    "#Adding period of day\n",
    "df_clean.loc[:,'departure_period'] = df_clean['departure_dt'].apply(period_of_day)\n",
    "df_clean.loc[:,'return_period'] = df_clean['return_dt'].apply(period_of_day)\n",
    "\n",
    "#Transforming outgoing minutes into hours for easier interpretation\n",
    "df_clean.loc[:,'outgoing_hours'] = df_clean['outgoing_duration']/60\n",
    "df_clean.loc[:,'returning_hours'] = df_clean['returning_duration']/60\n",
    "\n",
    "#Transformating departure date into days since the first departure date in the dataset, to facilitate interpretation\n",
    "df_clean.loc[:,'departure_days'] = (df_clean['departure_dt'] - dt.datetime(2015,7,19,0,0,0)).apply(lambda x: x.days)\n",
    "\n",
    "#Adding seasonality features\n",
    "df_clean.loc[:,'departure_dayofweek'] = df_clean['departure_dt'].apply(lambda x: x.dayofweek)\n",
    "df_clean.loc[:,'departure_month'] = df_clean['departure_dt'].apply(lambda x: x.month)"
   ]
  },
  {
   "cell_type": "code",
   "execution_count": 15,
   "metadata": {
    "collapsed": false,
    "scrolled": true
   },
   "outputs": [
    {
     "data": {
      "text/html": [
       "<div>\n",
       "<style scoped>\n",
       "    .dataframe tbody tr th:only-of-type {\n",
       "        vertical-align: middle;\n",
       "    }\n",
       "\n",
       "    .dataframe tbody tr th {\n",
       "        vertical-align: top;\n",
       "    }\n",
       "\n",
       "    .dataframe thead th {\n",
       "        text-align: right;\n",
       "    }\n",
       "</style>\n",
       "<table border=\"1\" class=\"dataframe\">\n",
       "  <thead>\n",
       "    <tr style=\"text-align: right;\">\n",
       "      <th></th>\n",
       "      <th>search_id</th>\n",
       "      <th>trip_index</th>\n",
       "      <th>received_date</th>\n",
       "      <th>received_ms</th>\n",
       "      <th>origin</th>\n",
       "      <th>destination</th>\n",
       "      <th>total_usd</th>\n",
       "      <th>pax_type</th>\n",
       "      <th>refundable</th>\n",
       "      <th>validating_carrier</th>\n",
       "      <th>...</th>\n",
       "      <th>departure_date</th>\n",
       "      <th>return_date</th>\n",
       "      <th>departure_period</th>\n",
       "      <th>return_period</th>\n",
       "      <th>outgoing_hours</th>\n",
       "      <th>returning_hours</th>\n",
       "      <th>departure_days</th>\n",
       "      <th>departure_dayofweek</th>\n",
       "      <th>departure_month</th>\n",
       "      <th>validation_los</th>\n",
       "    </tr>\n",
       "  </thead>\n",
       "  <tbody>\n",
       "  </tbody>\n",
       "</table>\n",
       "<p>0 rows × 38 columns</p>\n",
       "</div>"
      ],
      "text/plain": [
       "Empty DataFrame\n",
       "Columns: [search_id, trip_index, received_date, received_ms, origin, destination, total_usd, pax_type, refundable, validating_carrier, departure_odate, departure_ms, outgoing_duration, outgoing_stops, return_odate, return_ms, returning_duration, returning_stops, major_carrier_id, total_stops, advance, length_of_stay, includes_saturday_night_stay, available_seats, lowest_cabin_class, highest_cabin_class, departure_dt, return_dt, departure_date, return_date, departure_period, return_period, outgoing_hours, returning_hours, departure_days, departure_dayofweek, departure_month, validation_los]\n",
       "Index: []\n",
       "\n",
       "[0 rows x 38 columns]"
      ]
     },
     "execution_count": 15,
     "metadata": {},
     "output_type": "execute_result"
    }
   ],
   "source": [
    "#Validating Length of Stay Columns\n",
    "df_clean.loc[:,'validation_los'] = (df_clean['departure_dt'] + \n",
    "                                    pd.to_timedelta(df_clean['length_of_stay'], unit = 'days') -\n",
    "                                    df_clean['return_dt']).apply(lambda x: x.total_seconds()/(60*60))\n",
    "\n",
    "df_clean[abs(df_clean['validation_los'])>24]"
   ]
  },
  {
   "cell_type": "code",
   "execution_count": 16,
   "metadata": {
    "collapsed": false
   },
   "outputs": [
    {
     "data": {
      "text/html": [
       "<div>\n",
       "<style scoped>\n",
       "    .dataframe tbody tr th:only-of-type {\n",
       "        vertical-align: middle;\n",
       "    }\n",
       "\n",
       "    .dataframe tbody tr th {\n",
       "        vertical-align: top;\n",
       "    }\n",
       "\n",
       "    .dataframe thead th {\n",
       "        text-align: right;\n",
       "    }\n",
       "</style>\n",
       "<table border=\"1\" class=\"dataframe\">\n",
       "  <thead>\n",
       "    <tr style=\"text-align: right;\">\n",
       "      <th></th>\n",
       "      <th>departure_dt</th>\n",
       "    </tr>\n",
       "  </thead>\n",
       "  <tbody>\n",
       "    <tr>\n",
       "      <th>0</th>\n",
       "      <td>2016-06-02 11:01:00</td>\n",
       "    </tr>\n",
       "    <tr>\n",
       "      <th>1</th>\n",
       "      <td>2016-06-02 11:10:00</td>\n",
       "    </tr>\n",
       "    <tr>\n",
       "      <th>2</th>\n",
       "      <td>2016-06-02 11:10:00</td>\n",
       "    </tr>\n",
       "    <tr>\n",
       "      <th>3</th>\n",
       "      <td>2016-06-02 09:48:00</td>\n",
       "    </tr>\n",
       "    <tr>\n",
       "      <th>4</th>\n",
       "      <td>2016-06-02 09:55:00</td>\n",
       "    </tr>\n",
       "  </tbody>\n",
       "</table>\n",
       "</div>"
      ],
      "text/plain": [
       "         departure_dt\n",
       "0 2016-06-02 11:01:00\n",
       "1 2016-06-02 11:10:00\n",
       "2 2016-06-02 11:10:00\n",
       "3 2016-06-02 09:48:00\n",
       "4 2016-06-02 09:55:00"
      ]
     },
     "execution_count": 16,
     "metadata": {},
     "output_type": "execute_result"
    }
   ],
   "source": [
    "#Validating that departure timestamps make sense\n",
    "#Odd departure time at 11h01, and 9h48.\n",
    "df_clean[['departure_dt']].head()"
   ]
  },
  {
   "cell_type": "markdown",
   "metadata": {},
   "source": [
    "##### A Note on Cabin Classes\n",
    "\n",
    "* B economy\n",
    "* E economy premium\n",
    "* EP possibly also maps to economy premium\n",
    "* F first class\n",
    "* U first class on AmericanAirlines, but Economy on Air Canada\n",
    "\n",
    "As these can change depending on the airline, they will not be included in the model. If we could come up with an accurate mapping of classes, we could include them as an ordinal feature."
   ]
  },
  {
   "cell_type": "markdown",
   "metadata": {},
   "source": [
    "### Data Aggregation and Label Creation"
   ]
  },
  {
   "cell_type": "code",
   "execution_count": 17,
   "metadata": {
    "collapsed": false
   },
   "outputs": [],
   "source": [
    "#As we need to make our prediction for a given combination of search date, departure date, and return date, \n",
    "#we need to build our model for this level of granularity.\n",
    "\n",
    "df_agg = df_clean.groupby(['advance','departure_days','length_of_stay',\n",
    "                           'includes_saturday_night_stay', 'departure_month', \n",
    "                           'departure_dayofweek'])\\\n",
    "                 .agg({'search_id': ['count','nunique'],\n",
    "                       'total_usd': ['min','mean','std'],\n",
    "                       'pax_type' : 'nunique',\n",
    "                       'validating_carrier' : 'nunique',\n",
    "                       'departure_period': 'nunique',\n",
    "                       'return_period': 'nunique',\n",
    "                       'outgoing_hours': 'mean',\n",
    "                       'returning_hours': 'mean',\n",
    "                       'outgoing_stops': 'mean',\n",
    "                       'returning_stops': 'mean',\n",
    "                       'major_carrier_id' : 'nunique',\n",
    "                       'available_seats': ['min','max','mean']\n",
    "                 }).reset_index()"
   ]
  },
  {
   "cell_type": "code",
   "execution_count": 18,
   "metadata": {
    "collapsed": false
   },
   "outputs": [],
   "source": [
    "#Fixing column names\n",
    "df_agg.columns = ['_'.join(df_agg.columns.ravel()[i]) for i in range(0, len(df_agg.columns))]"
   ]
  },
  {
   "cell_type": "code",
   "execution_count": 19,
   "metadata": {
    "collapsed": true
   },
   "outputs": [],
   "source": [
    "#When only one price is shown, standard deviation is 0\n",
    "df_agg = df_agg.fillna({'total_usd_std':0})"
   ]
  },
  {
   "cell_type": "markdown",
   "metadata": {},
   "source": [
    "#### Adding the True Label\n",
    "Using the following rules:\n",
    "- When advance == 0, always book now\n",
    "- When advance > 0, look at min_price for all advance values smaller than the one of that row:\n",
    "    - If min_price is smaller than min_price of current row then Wait\n",
    "    - If min_price is larger than min_price of current row then Book Now"
   ]
  },
  {
   "cell_type": "code",
   "execution_count": 20,
   "metadata": {
    "collapsed": false
   },
   "outputs": [],
   "source": [
    "df_agg = (df_agg.assign(price_cum_min=df_agg.sort_values(['advance_'])\\\n",
    "                                .groupby(['departure_days_', 'length_of_stay_'])\\\n",
    "                                .total_usd_min\\\n",
    "                                .cummin()))"
   ]
  },
  {
   "cell_type": "code",
   "execution_count": 21,
   "metadata": {
    "collapsed": true
   },
   "outputs": [],
   "source": [
    "def true_label(row):\n",
    "    #Book is 1\n",
    "    #Wait is 0\n",
    "    if row['advance_'] == 0: result = 1\n",
    "    elif row['total_usd_min'] == row['price_cum_min']: result = 1\n",
    "    elif row['total_usd_min'] > row['price_cum_min']: result = 0\n",
    "    return result"
   ]
  },
  {
   "cell_type": "code",
   "execution_count": 22,
   "metadata": {
    "collapsed": false
   },
   "outputs": [],
   "source": [
    "df_agg.loc[:,'label'] = df_agg.apply(true_label, axis = 1)"
   ]
  },
  {
   "cell_type": "code",
   "execution_count": 23,
   "metadata": {
    "collapsed": false
   },
   "outputs": [
    {
     "data": {
      "text/html": [
       "<div>\n",
       "<style scoped>\n",
       "    .dataframe tbody tr th:only-of-type {\n",
       "        vertical-align: middle;\n",
       "    }\n",
       "\n",
       "    .dataframe tbody tr th {\n",
       "        vertical-align: top;\n",
       "    }\n",
       "\n",
       "    .dataframe thead th {\n",
       "        text-align: right;\n",
       "    }\n",
       "</style>\n",
       "<table border=\"1\" class=\"dataframe\">\n",
       "  <thead>\n",
       "    <tr style=\"text-align: right;\">\n",
       "      <th></th>\n",
       "      <th>departure_days_</th>\n",
       "    </tr>\n",
       "    <tr>\n",
       "      <th>label</th>\n",
       "      <th></th>\n",
       "    </tr>\n",
       "  </thead>\n",
       "  <tbody>\n",
       "    <tr>\n",
       "      <th>0</th>\n",
       "      <td>65930</td>\n",
       "    </tr>\n",
       "    <tr>\n",
       "      <th>1</th>\n",
       "      <td>18627</td>\n",
       "    </tr>\n",
       "  </tbody>\n",
       "</table>\n",
       "</div>"
      ],
      "text/plain": [
       "       departure_days_\n",
       "label                 \n",
       "0                65930\n",
       "1                18627"
      ]
     },
     "execution_count": 23,
     "metadata": {},
     "output_type": "execute_result"
    }
   ],
   "source": [
    "df_agg.groupby('label').agg({'departure_days_':'count'})"
   ]
  },
  {
   "cell_type": "code",
   "execution_count": 24,
   "metadata": {
    "collapsed": false
   },
   "outputs": [
    {
     "data": {
      "text/plain": [
       "0.7797107276748229"
      ]
     },
     "execution_count": 24,
     "metadata": {},
     "output_type": "execute_result"
    }
   ],
   "source": [
    "#Classes are unbalanced\n",
    "#Base Accuracy, if we tell everyone to wait\n",
    "65930 /(65930 + 18627)"
   ]
  },
  {
   "cell_type": "markdown",
   "metadata": {},
   "source": [
    "### Understanding our Data Better"
   ]
  },
  {
   "cell_type": "markdown",
   "metadata": {},
   "source": [
    "#### Continuous variables"
   ]
  },
  {
   "cell_type": "code",
   "execution_count": 25,
   "metadata": {
    "collapsed": false
   },
   "outputs": [
    {
     "data": {
      "image/png": "[encoded data removed]",
      "text/plain": [
       "<matplotlib.figure.Figure at 0x7fb54fe120b8>"
      ]
     },
     "metadata": {},
     "output_type": "display_data"
    }
   ],
   "source": [
    "df_continuous = df_agg[['advance_', 'departure_days_', 'length_of_stay_', 'departure_period_nunique',\n",
    "                    'return_period_nunique','search_id_count', 'search_id_nunique','returning_hours_mean',\n",
    "                    'outgoing_hours_mean', 'available_seats_mean', 'total_usd_min', 'total_usd_mean',\n",
    "                    'total_usd_std', 'validating_carrier_nunique', 'returning_stops_mean', \n",
    "                    'outgoing_stops_mean']]\n",
    "\n",
    "plt.matshow(df_continuous.corr())\n",
    "plt.show()"
   ]
  },
  {
   "cell_type": "markdown",
   "metadata": {},
   "source": [
    "#### Categorical/Ordinal variables"
   ]
  },
  {
   "cell_type": "code",
   "execution_count": 26,
   "metadata": {
    "collapsed": false
   },
   "outputs": [
    {
     "data": {
      "text/html": [
       "<div>\n",
       "<style scoped>\n",
       "    .dataframe tbody tr th:only-of-type {\n",
       "        vertical-align: middle;\n",
       "    }\n",
       "\n",
       "    .dataframe tbody tr th {\n",
       "        vertical-align: top;\n",
       "    }\n",
       "\n",
       "    .dataframe thead th {\n",
       "        text-align: right;\n",
       "    }\n",
       "</style>\n",
       "<table border=\"1\" class=\"dataframe\">\n",
       "  <thead>\n",
       "    <tr style=\"text-align: right;\">\n",
       "      <th></th>\n",
       "      <th>advance_</th>\n",
       "    </tr>\n",
       "    <tr>\n",
       "      <th>includes_saturday_night_stay_</th>\n",
       "      <th></th>\n",
       "    </tr>\n",
       "  </thead>\n",
       "  <tbody>\n",
       "    <tr>\n",
       "      <th>False</th>\n",
       "      <td>11968</td>\n",
       "    </tr>\n",
       "    <tr>\n",
       "      <th>True</th>\n",
       "      <td>72589</td>\n",
       "    </tr>\n",
       "  </tbody>\n",
       "</table>\n",
       "</div>"
      ],
      "text/plain": [
       "                               advance_\n",
       "includes_saturday_night_stay_          \n",
       "False                             11968\n",
       "True                              72589"
      ]
     },
     "execution_count": 26,
     "metadata": {},
     "output_type": "execute_result"
    }
   ],
   "source": [
    "df_agg.groupby('includes_saturday_night_stay_').agg({'advance_':'count'})"
   ]
  },
  {
   "cell_type": "code",
   "execution_count": 27,
   "metadata": {
    "collapsed": false
   },
   "outputs": [
    {
     "data": {
      "text/html": [
       "<div>\n",
       "<style scoped>\n",
       "    .dataframe tbody tr th:only-of-type {\n",
       "        vertical-align: middle;\n",
       "    }\n",
       "\n",
       "    .dataframe tbody tr th {\n",
       "        vertical-align: top;\n",
       "    }\n",
       "\n",
       "    .dataframe thead th {\n",
       "        text-align: right;\n",
       "    }\n",
       "</style>\n",
       "<table border=\"1\" class=\"dataframe\">\n",
       "  <thead>\n",
       "    <tr style=\"text-align: right;\">\n",
       "      <th></th>\n",
       "      <th>advance_</th>\n",
       "    </tr>\n",
       "    <tr>\n",
       "      <th>departure_month_</th>\n",
       "      <th></th>\n",
       "    </tr>\n",
       "  </thead>\n",
       "  <tbody>\n",
       "    <tr>\n",
       "      <th>1</th>\n",
       "      <td>6872</td>\n",
       "    </tr>\n",
       "    <tr>\n",
       "      <th>2</th>\n",
       "      <td>10594</td>\n",
       "    </tr>\n",
       "    <tr>\n",
       "      <th>3</th>\n",
       "      <td>8633</td>\n",
       "    </tr>\n",
       "    <tr>\n",
       "      <th>4</th>\n",
       "      <td>7570</td>\n",
       "    </tr>\n",
       "    <tr>\n",
       "      <th>5</th>\n",
       "      <td>5481</td>\n",
       "    </tr>\n",
       "    <tr>\n",
       "      <th>6</th>\n",
       "      <td>4568</td>\n",
       "    </tr>\n",
       "    <tr>\n",
       "      <th>7</th>\n",
       "      <td>4437</td>\n",
       "    </tr>\n",
       "    <tr>\n",
       "      <th>8</th>\n",
       "      <td>6306</td>\n",
       "    </tr>\n",
       "    <tr>\n",
       "      <th>9</th>\n",
       "      <td>5285</td>\n",
       "    </tr>\n",
       "    <tr>\n",
       "      <th>10</th>\n",
       "      <td>6204</td>\n",
       "    </tr>\n",
       "    <tr>\n",
       "      <th>11</th>\n",
       "      <td>8344</td>\n",
       "    </tr>\n",
       "    <tr>\n",
       "      <th>12</th>\n",
       "      <td>10263</td>\n",
       "    </tr>\n",
       "  </tbody>\n",
       "</table>\n",
       "</div>"
      ],
      "text/plain": [
       "                  advance_\n",
       "departure_month_          \n",
       "1                     6872\n",
       "2                    10594\n",
       "3                     8633\n",
       "4                     7570\n",
       "5                     5481\n",
       "6                     4568\n",
       "7                     4437\n",
       "8                     6306\n",
       "9                     5285\n",
       "10                    6204\n",
       "11                    8344\n",
       "12                   10263"
      ]
     },
     "execution_count": 27,
     "metadata": {},
     "output_type": "execute_result"
    }
   ],
   "source": [
    "df_agg.groupby('departure_month_').agg({'advance_':'count'})"
   ]
  },
  {
   "cell_type": "code",
   "execution_count": 28,
   "metadata": {
    "collapsed": false
   },
   "outputs": [
    {
     "data": {
      "text/html": [
       "<div>\n",
       "<style scoped>\n",
       "    .dataframe tbody tr th:only-of-type {\n",
       "        vertical-align: middle;\n",
       "    }\n",
       "\n",
       "    .dataframe tbody tr th {\n",
       "        vertical-align: top;\n",
       "    }\n",
       "\n",
       "    .dataframe thead th {\n",
       "        text-align: right;\n",
       "    }\n",
       "</style>\n",
       "<table border=\"1\" class=\"dataframe\">\n",
       "  <thead>\n",
       "    <tr style=\"text-align: right;\">\n",
       "      <th></th>\n",
       "      <th>advance_</th>\n",
       "    </tr>\n",
       "    <tr>\n",
       "      <th>departure_dayofweek_</th>\n",
       "      <th></th>\n",
       "    </tr>\n",
       "  </thead>\n",
       "  <tbody>\n",
       "    <tr>\n",
       "      <th>0</th>\n",
       "      <td>9597</td>\n",
       "    </tr>\n",
       "    <tr>\n",
       "      <th>1</th>\n",
       "      <td>8660</td>\n",
       "    </tr>\n",
       "    <tr>\n",
       "      <th>2</th>\n",
       "      <td>10635</td>\n",
       "    </tr>\n",
       "    <tr>\n",
       "      <th>3</th>\n",
       "      <td>13069</td>\n",
       "    </tr>\n",
       "    <tr>\n",
       "      <th>4</th>\n",
       "      <td>15482</td>\n",
       "    </tr>\n",
       "    <tr>\n",
       "      <th>5</th>\n",
       "      <td>16239</td>\n",
       "    </tr>\n",
       "    <tr>\n",
       "      <th>6</th>\n",
       "      <td>10875</td>\n",
       "    </tr>\n",
       "  </tbody>\n",
       "</table>\n",
       "</div>"
      ],
      "text/plain": [
       "                      advance_\n",
       "departure_dayofweek_          \n",
       "0                         9597\n",
       "1                         8660\n",
       "2                        10635\n",
       "3                        13069\n",
       "4                        15482\n",
       "5                        16239\n",
       "6                        10875"
      ]
     },
     "execution_count": 28,
     "metadata": {},
     "output_type": "execute_result"
    }
   ],
   "source": [
    "df_agg.groupby('departure_dayofweek_').agg({'advance_':'count'})"
   ]
  },
  {
   "cell_type": "markdown",
   "metadata": {},
   "source": [
    "### Building Prediction Models "
   ]
  },
  {
   "cell_type": "code",
   "execution_count": 29,
   "metadata": {
    "collapsed": true
   },
   "outputs": [],
   "source": [
    "from sklearn.compose import ColumnTransformer\n",
    "from sklearn.pipeline import Pipeline\n",
    "from sklearn.preprocessing import StandardScaler, OneHotEncoder, OrdinalEncoder\n",
    "from sklearn.linear_model import LogisticRegression\n",
    "from sklearn.model_selection import train_test_split\n",
    "from sklearn.svm import SVC\n",
    "from sklearn.ensemble import RandomForestClassifier, AdaBoostClassifier\n",
    "from sklearn.model_selection import cross_val_score\n",
    "from sklearn.model_selection import cross_validate\n",
    "import warnings\n",
    "from sklearn.tree import DecisionTreeClassifier\n",
    "\n",
    "warnings.filterwarnings(\"ignore\")"
   ]
  },
  {
   "cell_type": "markdown",
   "metadata": {},
   "source": [
    "### Correcting for Class Imbalance, with Oversampling"
   ]
  },
  {
   "cell_type": "code",
   "execution_count": 30,
   "metadata": {
    "collapsed": true
   },
   "outputs": [],
   "source": [
    "#Let's try to correct for class imbalance by oversampling the minority class\n",
    "X = df_agg.drop('label', axis=1)\n",
    "y = df_agg['label']\n",
    "\n",
    "X_train, X_test, y_train, y_test = train_test_split(X, y, test_size=0.2)"
   ]
  },
  {
   "cell_type": "code",
   "execution_count": 31,
   "metadata": {
    "collapsed": false
   },
   "outputs": [],
   "source": [
    "all_train = pd.concat([X_train, y_train], axis = 1)"
   ]
  },
  {
   "cell_type": "code",
   "execution_count": 32,
   "metadata": {
    "collapsed": false
   },
   "outputs": [],
   "source": [
    "df_agg_wait = all_train[all_train['label'] == 0]\n",
    "df_agg_book = all_train[all_train['label'] == 1]"
   ]
  },
  {
   "cell_type": "code",
   "execution_count": 33,
   "metadata": {
    "collapsed": false
   },
   "outputs": [],
   "source": [
    "df_agg_book_over = df_agg_book.sample(n=df_agg_wait['advance_'].count(), replace = True)\n",
    "df_agg_over = pd.concat([df_agg_wait, df_agg_book_over], axis = 0)"
   ]
  },
  {
   "cell_type": "code",
   "execution_count": 34,
   "metadata": {
    "collapsed": true
   },
   "outputs": [],
   "source": [
    "X_train_over = df_agg_over.drop('label', axis=1)\n",
    "y_train_over = df_agg_over['label']"
   ]
  },
  {
   "cell_type": "markdown",
   "metadata": {},
   "source": [
    "### Creating Pipeline"
   ]
  },
  {
   "cell_type": "code",
   "execution_count": 35,
   "metadata": {
    "collapsed": false
   },
   "outputs": [],
   "source": [
    "# We create the preprocessing pipelines for both numeric and categorical data.\n",
    "numeric_features = ['advance_', 'departure_days_', 'length_of_stay_', 'departure_period_nunique',\n",
    "                    'return_period_nunique','search_id_count', 'search_id_nunique','returning_hours_mean',\n",
    "                    'outgoing_hours_mean', 'available_seats_mean', 'total_usd_min', 'total_usd_mean',\n",
    "                    'total_usd_std', 'validating_carrier_nunique', 'returning_stops_mean', \n",
    "                    'outgoing_stops_mean']\n",
    "\n",
    "numeric_transformer = Pipeline(steps=[('scaler', StandardScaler())])\n",
    "\n",
    "categorical_features = ['includes_saturday_night_stay_']\n",
    "categorical_transformer = Pipeline(steps=[('onehot', OneHotEncoder(handle_unknown='ignore'))])\n",
    "\n",
    "\n",
    "ordinal_features = ['departure_month_', 'departure_dayofweek_']\n",
    "ordinal_transformer = Pipeline(steps=[('ordinal', OrdinalEncoder())])\n",
    "\n",
    "preprocessor = ColumnTransformer(\n",
    "    transformers=[\n",
    "        ('num', numeric_transformer, numeric_features),\n",
    "        ('cat', categorical_transformer, categorical_features),\n",
    "        ('ord', ordinal_transformer, ordinal_features)])"
   ]
  },
  {
   "cell_type": "markdown",
   "metadata": {},
   "source": [
    "### Fitting a Few Models"
   ]
  },
  {
   "cell_type": "code",
   "execution_count": 37,
   "metadata": {
    "collapsed": false,
    "scrolled": false
   },
   "outputs": [
    {
     "name": "stdout",
     "output_type": "stream",
     "text": [
      "logistic_reg\n",
      "Accuracy: 0.69659 (+/- 0.0086)\n",
      "\n",
      "\n",
      "lasso_reg_0.001\n",
      "Accuracy: 0.69337 (+/- 0.0082)\n",
      "\n",
      "\n",
      "lasso_reg_0.01\n",
      "Accuracy: 0.69750 (+/- 0.0092)\n",
      "\n",
      "\n",
      "lasso_reg_0.1\n",
      "Accuracy: 0.69689 (+/- 0.0084)\n",
      "\n",
      "\n",
      "adaboost_50_1\n",
      "Accuracy: 0.68758 (+/- 0.0079)\n",
      "\n",
      "\n",
      "adaboost_500_1\n",
      "Accuracy: 0.73953 (+/- 0.0056)\n",
      "\n",
      "\n",
      "adaboost_500_3\n",
      "Accuracy: 0.78549 (+/- 0.0041)\n",
      "\n",
      "\n",
      "rand_forest_9\n",
      "Accuracy: 0.81025 (+/- 0.0050)\n",
      "\n",
      "\n",
      "rand_forest_12\n",
      "Accuracy: 0.85213 (+/- 0.0055)\n",
      "\n",
      "\n",
      "rand_forest_15\n",
      "Accuracy: 0.90093 (+/- 0.0064)\n",
      "\n",
      "\n",
      "SVM_linear_0.01\n",
      "Accuracy: 0.69775 (+/- 0.0091)\n",
      "\n",
      "\n",
      "SVM_linear_0.1\n",
      "Accuracy: 0.69793 (+/- 0.0090)\n",
      "\n",
      "\n",
      "SVM_rbf_0.01\n",
      "Accuracy: 0.71060 (+/- 0.0087)\n",
      "\n",
      "\n",
      "SVM_rbf_0.1\n",
      "Accuracy: 0.75203 (+/- 0.0088)\n",
      "\n",
      "\n"
     ]
    },
    {
     "ename": "IndexError",
     "evalue": "list index out of range",
     "output_type": "error",
     "traceback": [
      "\u001b[1;31m---------------------------------------------------------------------------\u001b[0m",
      "\u001b[1;31mIndexError\u001b[0m                                Traceback (most recent call last)",
      "\u001b[1;32m<ipython-input-37-2e2a705095c1>\u001b[0m in \u001b[0;36m<module>\u001b[1;34m()\u001b[0m\n\u001b[0;32m     26\u001b[0m \u001b[1;33m\u001b[0m\u001b[0m\n\u001b[0;32m     27\u001b[0m \u001b[1;32mfor\u001b[0m \u001b[0mi\u001b[0m \u001b[1;32min\u001b[0m \u001b[0mrange\u001b[0m\u001b[1;33m(\u001b[0m\u001b[1;36m0\u001b[0m\u001b[1;33m,\u001b[0m\u001b[1;36m15\u001b[0m\u001b[1;33m)\u001b[0m\u001b[1;33m:\u001b[0m\u001b[1;33m\u001b[0m\u001b[0m\n\u001b[1;32m---> 28\u001b[1;33m     \u001b[0mclf\u001b[0m \u001b[1;33m=\u001b[0m \u001b[0mPipeline\u001b[0m\u001b[1;33m(\u001b[0m\u001b[0msteps\u001b[0m\u001b[1;33m=\u001b[0m\u001b[1;33m[\u001b[0m\u001b[1;33m(\u001b[0m\u001b[1;34m'preprocessor'\u001b[0m\u001b[1;33m,\u001b[0m \u001b[0mpreprocessor\u001b[0m\u001b[1;33m)\u001b[0m\u001b[1;33m,\u001b[0m \u001b[1;33m(\u001b[0m\u001b[0mmodel_names\u001b[0m\u001b[1;33m[\u001b[0m\u001b[0mi\u001b[0m\u001b[1;33m]\u001b[0m\u001b[1;33m,\u001b[0m\u001b[0mmodels\u001b[0m\u001b[1;33m[\u001b[0m\u001b[0mi\u001b[0m\u001b[1;33m]\u001b[0m\u001b[1;33m)\u001b[0m\u001b[1;33m]\u001b[0m\u001b[1;33m)\u001b[0m\u001b[1;33m\u001b[0m\u001b[0m\n\u001b[0m\u001b[0;32m     29\u001b[0m     \u001b[0mclf\u001b[0m\u001b[1;33m.\u001b[0m\u001b[0mfit\u001b[0m\u001b[1;33m(\u001b[0m\u001b[0mX_train_over\u001b[0m\u001b[1;33m,\u001b[0m \u001b[0my_train_over\u001b[0m\u001b[1;33m)\u001b[0m\u001b[1;33m\u001b[0m\u001b[0m\n\u001b[0;32m     30\u001b[0m \u001b[1;33m\u001b[0m\u001b[0m\n",
      "\u001b[1;31mIndexError\u001b[0m: list index out of range"
     ]
    }
   ],
   "source": [
    "models = [LogisticRegression(C=10000), \n",
    "          LogisticRegression(penalty = 'l1', C= 0.001),\n",
    "          LogisticRegression(penalty = 'l1', C= 0.01),\n",
    "          LogisticRegression(penalty = 'l1', C= 0.1),\n",
    "          AdaBoostClassifier(base_estimator = DecisionTreeClassifier(max_depth=1), \n",
    "                             learning_rate=0.01, n_estimators=50),\n",
    "          AdaBoostClassifier(base_estimator = DecisionTreeClassifier(max_depth=1), \n",
    "                             learning_rate=0.01, n_estimators=500),\n",
    "          AdaBoostClassifier(base_estimator = DecisionTreeClassifier(max_depth=3), \n",
    "                             learning_rate=0.01, n_estimators=500),\n",
    "          RandomForestClassifier(n_estimators=500, max_depth = 9, max_features=\"sqrt\"),\n",
    "          RandomForestClassifier(n_estimators=500, max_depth = 12, max_features=\"sqrt\"),\n",
    "          RandomForestClassifier(n_estimators=500, max_depth = 15, max_features=\"sqrt\"),\n",
    "          SVC(kernel=\"linear\", C=0.01),\n",
    "          SVC(kernel=\"linear\", C=0.1),\n",
    "          SVC(gamma='scale', kernel='rbf', C=0.01),\n",
    "          SVC(gamma='scale', kernel='rbf', C=0.1)\n",
    "         ]\n",
    "\n",
    "model_names = ['logistic_reg', 'lasso_reg_0.001', 'lasso_reg_0.01',\n",
    "               'lasso_reg_0.1', 'adaboost_50_1', 'adaboost_500_1',\n",
    "               'adaboost_500_3', 'rand_forest_9', 'rand_forest_12',\n",
    "               'rand_forest_15','SVM_linear_0.01', 'SVM_linear_0.1',\n",
    "               'SVM_rbf_0.01', 'SVM_rbf_0.1']\n",
    "\n",
    "\n",
    "for i in range(0,15): \n",
    "    clf = Pipeline(steps=[('preprocessor', preprocessor), (model_names[i],models[i])])\n",
    "    clf.fit(X_train_over, y_train_over)  \n",
    "\n",
    "    scores = cross_val_score(clf, X_train_over, y_train_over, cv=5)\n",
    "    print(model_names[i])\n",
    "    print(\"Accuracy: %0.5f (+/- %0.4f)\" % (scores.mean(), scores.std() * 2))\n",
    "    print(\"\\n\")"
   ]
  },
  {
   "cell_type": "markdown",
   "metadata": {},
   "source": [
    "### Investigating most successful models: Random Forests"
   ]
  },
  {
   "cell_type": "markdown",
   "metadata": {},
   "source": [
    "#### Random forest with depth of 15 is overfitted"
   ]
  },
  {
   "cell_type": "code",
   "execution_count": 38,
   "metadata": {
    "collapsed": false
   },
   "outputs": [
    {
     "name": "stdout",
     "output_type": "stream",
     "text": [
      "Accuracy: 0.90113 (+/- 0.0060)\n"
     ]
    }
   ],
   "source": [
    "clf = Pipeline(steps=[('preprocessor', preprocessor), ('rand_for',RandomForestClassifier(max_depth = 15,n_estimators=500, max_features=\"sqrt\"))])\n",
    "clf.fit(X_train_over, y_train_over)  \n",
    "\n",
    "scores = cross_val_score(clf, X_train_over, y_train_over, cv=5)\n",
    "print(\"Accuracy: %0.5f (+/- %0.4f)\" % (scores.mean(), scores.std() * 2))"
   ]
  },
  {
   "cell_type": "code",
   "execution_count": 39,
   "metadata": {
    "collapsed": false
   },
   "outputs": [
    {
     "name": "stdout",
     "output_type": "stream",
     "text": [
      "model score: 0.856\n"
     ]
    }
   ],
   "source": [
    "#Accuracy of chosen model\n",
    "clf = Pipeline(steps=[('preprocessor', preprocessor), ('rand_for',RandomForestClassifier(max_depth = 15,n_estimators=500, max_features=\"sqrt\"))])\n",
    "clf.fit(X_train_over, y_train_over)  \n",
    "print(\"model score: %.3f\" % clf.score(X_test, y_test))"
   ]
  },
  {
   "cell_type": "markdown",
   "metadata": {},
   "source": [
    "#### Random forest with depth of 12 is chosen as our final model"
   ]
  },
  {
   "cell_type": "code",
   "execution_count": 40,
   "metadata": {
    "collapsed": false
   },
   "outputs": [
    {
     "name": "stdout",
     "output_type": "stream",
     "text": [
      "Accuracy: 0.85195 (+/- 0.0058)\n"
     ]
    }
   ],
   "source": [
    "clf = Pipeline(steps=[('preprocessor', preprocessor), ('rand_for',RandomForestClassifier(max_depth = 12,n_estimators=500, max_features=\"sqrt\"))])\n",
    "clf.fit(X_train_over, y_train_over)  \n",
    "\n",
    "scores = cross_val_score(clf, X_train_over, y_train_over, cv=5)\n",
    "print(\"Accuracy: %0.5f (+/- %0.4f)\" % (scores.mean(), scores.std() * 2))"
   ]
  },
  {
   "cell_type": "code",
   "execution_count": 41,
   "metadata": {
    "collapsed": false
   },
   "outputs": [
    {
     "name": "stdout",
     "output_type": "stream",
     "text": [
      "model score: 0.832\n"
     ]
    }
   ],
   "source": [
    "#Accuracy of chosen model\n",
    "clf = Pipeline(steps=[('preprocessor', preprocessor), ('rand_for',RandomForestClassifier(max_depth = 12,n_estimators=500, max_features=\"sqrt\"))])\n",
    "clf.fit(X_train_over, y_train_over)  \n",
    "print(\"model score: %.3f\" % clf.score(X_test, y_test))"
   ]
  },
  {
   "cell_type": "code",
   "execution_count": 42,
   "metadata": {
    "collapsed": false
   },
   "outputs": [
    {
     "data": {
      "image/png": "[encoded data removed]",
      "text/plain": [
       "<matplotlib.figure.Figure at 0x7fb4d94b49b0>"
      ]
     },
     "metadata": {},
     "output_type": "display_data"
    }
   ],
   "source": [
    "#Feature importance\n",
    "importance = clf.steps[1][1].feature_importances_\n",
    "\n",
    "fig, ax = plt.subplots()\n",
    "y_pos = np.arange(len(importance))\n",
    "\n",
    "ax.barh(y_pos, importance)\n",
    "ax.set_yticks(y_pos)\n",
    "ax.set_yticklabels(X_train_over.columns)\n",
    "ax.invert_yaxis()\n",
    "ax.set_xlabel('Feature Importance')\n",
    "ax.set_title('Feautre Importance for Final Model')\n",
    "\n",
    "plt.show()"
   ]
  },
  {
   "cell_type": "code",
   "execution_count": 43,
   "metadata": {
    "collapsed": false
   },
   "outputs": [
    {
     "name": "stdout",
     "output_type": "stream",
     "text": [
      "feature: advance_, importance: 0.30560443125005243\n",
      "feature: departure_days_, importance: 0.08261279636854532\n",
      "feature: length_of_stay_, importance: 0.052757765858743394\n",
      "feature: includes_saturday_night_stay_, importance: 0.019120704971985137\n",
      "feature: departure_month_, importance: 0.013391499713259845\n",
      "feature: departure_dayofweek_, importance: 0.03454201366524228\n",
      "feature: available_seats_min, importance: 0.0047858554189153515\n",
      "feature: available_seats_max, importance: 0.04125423592221948\n",
      "feature: available_seats_mean, importance: 0.041580748643632356\n",
      "feature: return_period_nunique, importance: 0.030259396154752472\n",
      "feature: outgoing_stops_mean, importance: 0.17874597347143945\n",
      "feature: returning_hours_mean, importance: 0.06211126395505508\n",
      "feature: departure_period_nunique, importance: 0.03181630928390228\n",
      "feature: returning_stops_mean, importance: 0.009069003229176234\n",
      "feature: outgoing_hours_mean, importance: 0.017265876802564212\n",
      "feature: validating_carrier_nunique, importance: 0.018242297638575728\n",
      "feature: major_carrier_id_nunique, importance: 0.00393058067048907\n",
      "feature: search_id_count, importance: 0.003777409903143821\n",
      "feature: search_id_nunique, importance: 0.03528959627528638\n",
      "feature: pax_type_nunique, importance: 0.01384224080301971\n"
     ]
    }
   ],
   "source": [
    "#Feature Importance Exact Values\n",
    "for feat, importance in zip(X_train_over.columns, clf.steps[1][1].feature_importances_):\n",
    "    print('feature: {f}, importance: {i}'.format(f=feat, i=importance))"
   ]
  },
  {
   "cell_type": "markdown",
   "metadata": {},
   "source": [
    "### Next Steps\n",
    "As next steps, I would like to explore:\n",
    "-\tOptimizing further the model selection process, by tuning the models more extensively, via grid search.\n",
    "-\tAdding more features, such as external economics features, as well as interaction features, additional transformations of existing features (i.e. incorporating information on past searches, when available).\n",
    "-\tBuilding a model that predicts the date a user should wait until (for when the advice is to wait). The current version of Hopper already shows this, and it makes for a better user experience.\n",
    "-\tInvestigate if multilevel models can help drive higher accuracy.\n",
    "-\tCreate an accurate mapping for cabin classes and incorporate it in the model as an ordinal feature\n"
   ]
  }
 ],
 "metadata": {
  "kernelspec": {
   "display_name": "Python 3",
   "language": "python",
   "name": "python3"
  },
  "language_info": {
   "codemirror_mode": {
    "name": "ipython",
    "version": 3
   },
   "file_extension": ".py",
   "mimetype": "text/x-python",
   "name": "python",
   "nbconvert_exporter": "python",
   "pygments_lexer": "ipython3",
   "version": "3.4.6"
  }
 },
 "nbformat": 4,
 "nbformat_minor": 2
}
